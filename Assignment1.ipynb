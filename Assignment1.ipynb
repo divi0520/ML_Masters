{
 "cells": [
  {
   "cell_type": "markdown",
   "metadata": {},
   "source": [
    "# Session 1: Assignment 1"
   ]
  },
  {
   "cell_type": "markdown",
   "metadata": {},
   "source": [
    "# Task1"
   ]
  },
  {
   "cell_type": "markdown",
   "metadata": {},
   "source": [
    "Q1. Install Jupyter Notebook and run the first program and share the screen shot of the output."
   ]
  },
  {
   "cell_type": "code",
   "execution_count": 73,
   "metadata": {},
   "outputs": [
    {
     "name": "stdout",
     "output_type": "stream",
     "text": [
      "What's your name: Hari\n",
      "Hi Hari!! Welcome to iNeuron ML Masters\n"
     ]
    }
   ],
   "source": [
    "name = input(\"What's your name: \")\n",
    "print(\"Hi \"+name+ \"!! Welcome to iNeuron ML Masters\")"
   ]
  },
  {
   "cell_type": "markdown",
   "metadata": {},
   "source": [
    "Q2. Write a program which will find all such numbers which are divisible 7 but are not multiple of 5, between 2000 and 3200 (both included). The numbers obtained should be printed in a comma-separated sequence on a single line."
   ]
  },
  {
   "cell_type": "code",
   "execution_count": 72,
   "metadata": {},
   "outputs": [
    {
     "name": "stdout",
     "output_type": "stream",
     "text": [
      "2002,2009,2016,2023,2037,2044,2051,2058,2072,2079,2086,2093,2107,2114,2121,2128,2142,2149,2156,2163,2177,2184,2191,2198,2212,2219,2226,2233,2247,2254,2261,2268,2282,2289,2296,2303,2317,2324,2331,2338,2352,2359,2366,2373,2387,2394,2401,2408,2422,2429,2436,2443,2457,2464,2471,2478,2492,2499,2506,2513,2527,2534,2541,2548,2562,2569,2576,2583,2597,2604,2611,2618,2632,2639,2646,2653,2667,2674,2681,2688,2702,2709,2716,2723,2737,2744,2751,2758,2772,2779,2786,2793,2807,2814,2821,2828,2842,2849,2856,2863,2877,2884,2891,2898,2912,2919,2926,2933,2947,2954,2961,2968,2982,2989,2996,3003,3017,3024,3031,3038,3052,3059,3066,3073,3087,3094,3101,3108,3122,3129,3136,3143,3157,3164,3171,3178,3192,3199,"
     ]
    }
   ],
   "source": [
    "num = range(2000, 3201)\n",
    "for i in num:\n",
    "    if (i%7) == 0 and (i%5) != 0:\n",
    "        print(i, end =',')"
   ]
  },
  {
   "cell_type": "markdown",
   "metadata": {},
   "source": [
    "Q3. Write a Python program to accept user's first and last name and then getting them printed in the reverse order with a space between first name and last name"
   ]
  },
  {
   "cell_type": "code",
   "execution_count": 39,
   "metadata": {},
   "outputs": [
    {
     "name": "stdout",
     "output_type": "stream",
     "text": [
      "Please enter First Name: Hari\n",
      "Please enter Last Name: Divi\n",
      "Divi Hari\n"
     ]
    }
   ],
   "source": [
    "fName = input(\"Please enter First Name: \")\n",
    "lName = input(\"Please enter Last Name: \")\n",
    "print(lName+\" \"+ fName)"
   ]
  },
  {
   "cell_type": "code",
   "execution_count": 40,
   "metadata": {},
   "outputs": [
    {
     "name": "stdout",
     "output_type": "stream",
     "text": [
      "Please enter First Name: Hari Babu\n",
      "Please enter Last Name: Divi\n",
      "Divi Hari Babu\n"
     ]
    }
   ],
   "source": [
    "fName = input(\"Please enter First Name: \")\n",
    "lName = input(\"Please enter Last Name: \")\n",
    "print(lName+\" \"+ fName)"
   ]
  },
  {
   "cell_type": "markdown",
   "metadata": {},
   "source": [
    "Q4. Write a Python Program to find the volume of a spehere with diameter 12cm.\n",
    "formula: V = 4/3 * Pie * r3"
   ]
  },
  {
   "cell_type": "code",
   "execution_count": 46,
   "metadata": {},
   "outputs": [
    {
     "name": "stdout",
     "output_type": "stream",
     "text": [
      "Diameter is:12\n",
      "Radius is:6.0\n",
      "Volume of Spehere is: 905.142857142857\n"
     ]
    }
   ],
   "source": [
    "d = 12\n",
    "r = d/2\n",
    "v = (4/3)*(22/7)*(r*r*r)\n",
    "print(\"Diameter is:\"+str(d))\n",
    "print(\"Radius is:\"+str(r))\n",
    "print(\"Volume of Spehere is: \"+str(v))"
   ]
  },
  {
   "cell_type": "markdown",
   "metadata": {},
   "source": [
    "# Task 2"
   ]
  },
  {
   "cell_type": "markdown",
   "metadata": {},
   "source": [
    "Q1. Write a Program which accepts a sequence of comma separated numbers from console and generate a list"
   ]
  },
  {
   "cell_type": "code",
   "execution_count": 91,
   "metadata": {},
   "outputs": [
    {
     "name": "stdout",
     "output_type": "stream",
     "text": [
      "Please enter comma separated numbers..21, 47, 67, 87, 102\n",
      "21, 47, 67, 87, 102\n",
      "<class 'str'>\n",
      "['21', ' 47', ' 67', ' 87', ' 102']\n",
      "<class 'list'>\n"
     ]
    }
   ],
   "source": [
    "num = input(\"Please enter comma separated numbers..\")\n",
    "print(num)\n",
    "print(type(num))\n",
    "l = num.split(\",\")\n",
    "print(l)\n",
    "print(type(l))\n"
   ]
  },
  {
   "cell_type": "raw",
   "metadata": {},
   "source": [
    "Q2. Create below pattern using nested for loop in Python\n",
    "\n",
    "*\n",
    "* *\n",
    "* * *\n",
    "* * * *\n",
    "* * * * *\n",
    "* * * *\n",
    "* * *\n",
    "* *\n",
    "*"
   ]
  },
  {
   "cell_type": "code",
   "execution_count": 183,
   "metadata": {},
   "outputs": [
    {
     "name": "stdout",
     "output_type": "stream",
     "text": [
      "*  \n",
      "* *  \n",
      "* * *  \n",
      "* * * *  \n",
      "* * * * *  \n",
      "* * * *  \n",
      "* * *  \n",
      "* *  \n",
      "*  \n"
     ]
    }
   ],
   "source": [
    "num_range = 5\n",
    "for i in range(1, num_range):\n",
    "    for j in range(i):\n",
    "        print('*', end = \" \")\n",
    "    print(\" \")\n",
    "for i in range(num_range, 0, -1):\n",
    "    for j in range(i):\n",
    "        print('*', end = \" \")\n",
    "    print(\" \")"
   ]
  },
  {
   "cell_type": "markdown",
   "metadata": {},
   "source": [
    "Q3. Write a Python program to print the given string in the format specified in the sample output.\n"
   ]
  },
  {
   "cell_type": "code",
   "execution_count": 194,
   "metadata": {},
   "outputs": [
    {
     "name": "stdout",
     "output_type": "stream",
     "text": [
      "WE, THE PEOPLE OF INDIA,\n",
      "\thaving solemnly resolved to constitute India into a SOVEREIGN, !\n",
      "\t\tSOCIALIST, SECULAR, DEMOGRAPHIC REPUBLIC\n",
      "\t\t and to secure to all citizens\n"
     ]
    }
   ],
   "source": [
    "print(\"WE, THE PEOPLE OF INDIA,\\n\\thaving solemnly resolved to constitute India into a SOVEREIGN, !\\n\\t\\tSOCIALIST, SECULAR, DEMOGRAPHIC REPUBLIC\\n\\t\\t and to secure to all citizens\")"
   ]
  },
  {
   "cell_type": "code",
   "execution_count": null,
   "metadata": {},
   "outputs": [],
   "source": []
  }
 ],
 "metadata": {
  "kernelspec": {
   "display_name": "Python 3",
   "language": "python",
   "name": "python3"
  },
  "language_info": {
   "codemirror_mode": {
    "name": "ipython",
    "version": 3
   },
   "file_extension": ".py",
   "mimetype": "text/x-python",
   "name": "python",
   "nbconvert_exporter": "python",
   "pygments_lexer": "ipython3",
   "version": "3.7.4"
  }
 },
 "nbformat": 4,
 "nbformat_minor": 2
}
